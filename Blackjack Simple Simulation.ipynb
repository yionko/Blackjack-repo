{
 "cells": [
  {
   "cell_type": "code",
   "execution_count": 1,
   "id": "ecc3d25c-80b5-421a-bda3-d2bad69918a6",
   "metadata": {},
   "outputs": [],
   "source": [
    "from Blackjack import hit, putBack, valueSum, randomValue"
   ]
  },
  {
   "cell_type": "code",
   "execution_count": 2,
   "id": "43cbcbbf-af9f-4fd8-8525-38256ed12ec1",
   "metadata": {},
   "outputs": [],
   "source": [
    "# This is a simple simulation that loops through all paths of a player\n",
    "# when given 4 and 9 as the table cards. The dealer is given 1 and 6\n",
    "# as the initial cards but the player only observes Ace.\n",
    "# Therefore, the player needs to consider all paths if she assumes \n",
    "# the hidden card is Ace/2/3, etc.\n",
    "\n",
    "# Input: dealer and player's initial cards.\n",
    "# Output: the winning probability when hitting and standing at each \n",
    "# stage.\n",
    "n = 1000000000\n",
    "dealerCard1 = 1\n",
    "dealerCard2 = 6\n",
    "playerCard1 = 5\n",
    "playerCard2 = 9\n",
    "\n",
    "def simulation(n, dealerCard1, dealerCard2, playerCard1, playerCard2):\n",
    "    dealerHistory = np.array([dealerCard1])\n",
    "    playerHistory = np.array([playerCard1, playerCard2])\n",
    "    cards = [1] * 52\n",
    "    cardsCount = [4] * 13\n",
    "    \n",
    "    numOfWinIfHit = 0\n",
    "    numOfWinIfStand = 0\n",
    "    \n",
    "    for i in range(0, n):\n",
    "        oneGameTest = oneGame(dealerCard1, dealerCard2, playerCard1, playerCard2, cards, cardsCount)\n",
    "        \n",
    "\n",
    "    "
   ]
  },
  {
   "cell_type": "code",
   "execution_count": null,
   "id": "cb9bb134",
   "metadata": {},
   "outputs": [],
   "source": []
  },
  {
   "cell_type": "code",
   "execution_count": 3,
   "id": "025bbdc0-5c8b-4299-be6d-a6bb484af2fe",
   "metadata": {},
   "outputs": [],
   "source": [
    "cards = [1] * 52\n",
    "cardsCount = [4] * 13\n",
    "\n",
    "# at each point, the player chooses to hit or stand.\n",
    "# If hitting, then hit according to the order.\n",
    "# Record the number/probability of winning of each choice.\n",
    "\n",
    "def oneNodeHit(n, dealerHistory, playerHistory, cards, cardsCount):\n",
    "    \n",
    "    dealerSum = valueSum(dealerHistory, 1)\n",
    "\n",
    "    playerSum = valueSum(playerHistory, 0)\n",
    "   \n",
    "    probOfWinIfHit = 0\n",
    "    \n",
    "\n",
    "    \n",
    "    for value in range(1, 14): # Ace to King\n",
    "        \n",
    "        \n",
    "        hitResult = hit(value, cards, cardsCount)\n",
    "        if hitResult == None:\n",
    "            continue\n",
    "        playerHistory = np.append(playerHistory, value)\n",
    "        \n",
    "        playerSum = valueSum(playerHistory, 0)\n"
   ]
  },
  {
   "cell_type": "code",
   "execution_count": 4,
   "id": "75b6dc85-f8e3-4547-ae9c-f859d9b10882",
   "metadata": {},
   "outputs": [],
   "source": [
    "# CARDS and CARDSCOUNT should exclude dealerCard1 and \n",
    "# playerHistory. DealerCard2 is random to player.\n",
    "\n",
    "def oneNodeStand(n, dealerCard1, playerHistory, cards, cardsCount):   \n",
    "    probOfWinIfStand = 0\n",
    "    \n",
    "    dealerHistory = [dealerCard1]\n",
    "    playerSum = valueSum(playerHistory, 0)\n",
    "    \n",
    "    if playerSum > 21:\n",
    "        return 0\n",
    "    dealerSum = valueSum(dealerHistory, 1)\n",
    "    dealerBurstProb = 0\n",
    "\n",
    "    numOfPlayerWin = 0\n",
    "    \n",
    "    # burstProb\n",
    "    for i in range(0, n):\n",
    "        value = randomValue(cards)\n",
    "        dealerHistory.append(value)\n",
    "        dealerSum = valueSum(dealerHistory, 1)\n",
    "        \n",
    "        while dealerSum < 17:\n",
    "            value = randomValue(cards)\n",
    "            dealerHistory.append(value)\n",
    "            dealerSum = valueSum(dealerHistory, 1)\n",
    "        if dealerSum > 21:\n",
    "            numOfPlayerWin += 1\n",
    "        elif playerSum > dealerSum:\n",
    "            numOfPlayerWin += 1\n",
    "            \n",
    "    probOfWinIfStand = numOfPlayerWin / n\n",
    "\n",
    "    return probOfWinIfStand"
   ]
  },
  {
   "cell_type": "code",
   "execution_count": 5,
   "id": "54de8314-16b9-4f06-a088-1874aab6cbfe",
   "metadata": {},
   "outputs": [
    {
     "name": "stdout",
     "output_type": "stream",
     "text": [
      "[4, 4, 4, 4, 3, 4, 4, 4, 3, 4, 4, 4, 4]\n"
     ]
    }
   ],
   "source": [
    "n = 100000\n",
    "dealerCard1 = 1\n",
    "playerHistory = [5, 9]\n",
    "cards = [0] * 52\n",
    "cardsCount = [4] * 13\n",
    "\n",
    "for i in range(0, len(playerHistory)):\n",
    "    hit(playerHistory[i], cards, cardsCount)\n",
    "\n",
    "print(cardsCount)"
   ]
  },
  {
   "cell_type": "code",
   "execution_count": null,
   "id": "96af9498-55fc-457a-b766-1de206e3d131",
   "metadata": {},
   "outputs": [],
   "source": []
  }
 ],
 "metadata": {
  "kernelspec": {
   "display_name": "Python 3 (ipykernel)",
   "language": "python",
   "name": "python3"
  },
  "language_info": {
   "codemirror_mode": {
    "name": "ipython",
    "version": 3
   },
   "file_extension": ".py",
   "mimetype": "text/x-python",
   "name": "python",
   "nbconvert_exporter": "python",
   "pygments_lexer": "ipython3",
   "version": "3.9.7"
  }
 },
 "nbformat": 4,
 "nbformat_minor": 5
}
