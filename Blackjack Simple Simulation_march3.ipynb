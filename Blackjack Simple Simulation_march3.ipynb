{
 "cells": [
  {
   "cell_type": "code",
   "execution_count": 16,
   "id": "38bc5083-8b48-4338-9838-77e1c28d6e1a",
   "metadata": {},
   "outputs": [],
   "source": [
    "import sys\n",
    "sys.path.insert(0, '/Users/yionko/Desktop/Reinforcement Learning')\n",
    "from Blackjack import hit, putBack, valueSum, randomValue\n",
    "from tqdm import tqdm\n",
    "import copy"
   ]
  },
  {
   "cell_type": "code",
   "execution_count": 48,
   "id": "025bbdc0-5c8b-4299-be6d-a6bb484af2fe",
   "metadata": {},
   "outputs": [],
   "source": [
    "\n",
    "# THE SIMPLE POLICY: hit until >= 17\n",
    "# Record the number/probability of winning of each choice.\n",
    "\n",
    "def simplePolicy(n, dealerCard1, dealerCard2, playerCard1, \n",
    "                 playerCard2):\n",
    "    \n",
    "    cards = [1] * 52\n",
    "    cardsCount = [4] * 13\n",
    "    \n",
    "    playerHistory = [playerCard1, playerCard2]\n",
    "    dealerHistory = [dealerCard1, dealerCard2]\n",
    "    \n",
    "    for i in range(0, len(playerHistory)):\n",
    "        hit(playerHistory[i], cards, cardsCount)\n",
    "    for i in range(0, len(dealerHistory)):\n",
    "        hitResult = hit(dealerHistory[i], cards, cardsCount)\n",
    "    \n",
    "    \n",
    "    \n",
    "    numOfWin = 0\n",
    "    \n",
    "    for i in tqdm(range(0, n)):\n",
    "        cards1 = copy.deepcopy(hitResult[1])\n",
    "        cardsCount1 = copy.deepcopy(hitResult[2])\n",
    "        \n",
    "        playerHistory = [playerCard1, playerCard2]\n",
    "\n",
    "        # calculate valueSum as if it is for the dealer\n",
    "        # because we treat Ace as one unless treating\n",
    "        # it as 11 makes the total >= 17.\n",
    "        playerSum = valueSum(playerHistory, 1)\n",
    "\n",
    "        while playerSum < 17:\n",
    "            value = randomValue(cards1) \n",
    "            hit(value, cards1, cardsCount1)\n",
    "            playerHistory.append(value)\n",
    "            playerSum = valueSum(playerHistory, 1)\n",
    "        \n",
    "        if playerSum > 21:\n",
    "            continue\n",
    "        else:\n",
    "            dealerHistory = [dealerCard1, dealerCard2]\n",
    "            dealerSum = valueSum(dealerHistory, 1)\n",
    "            \n",
    "            while dealerSum < 17:\n",
    "                value = randomValue(cards1) \n",
    "                hit(value, cards1, cardsCount1)\n",
    "                dealerHistory.append(value)\n",
    "                dealerSum = valueSum(dealerHistory, 1)\n",
    "            \n",
    "        if dealerSum > 21:\n",
    "            numOfWin += 1\n",
    "        elif playerSum > dealerSum:\n",
    "            numOfWin += 1\n",
    "    return numOfWin / n\n",
    "    \n",
    "   \n"
   ]
  },
  {
   "cell_type": "code",
   "execution_count": 49,
   "id": "e70e3b1a-96a1-49b2-b861-2ee1e695b4bb",
   "metadata": {},
   "outputs": [
    {
     "name": "stderr",
     "output_type": "stream",
     "text": [
      "100%|██████████| 1000000/1000000 [01:02<00:00, 15930.90it/s]"
     ]
    },
    {
     "name": "stdout",
     "output_type": "stream",
     "text": [
      "0.336356\n"
     ]
    },
    {
     "name": "stderr",
     "output_type": "stream",
     "text": [
      "\n"
     ]
    }
   ],
   "source": [
    "n = 1000000\n",
    "\n",
    "dealerCard1 = 1\n",
    "dealerCard2 = 6\n",
    "\n",
    "playerCard1 = 5\n",
    "playerCard2 = 9\n",
    "\n",
    "winProb = simplePolicy(n, dealerCard1, dealerCard2, playerCard1, playerCard2)\n",
    "print(winProb)"
   ]
  },
  {
   "cell_type": "code",
   "execution_count": 38,
   "id": "75b6dc85-f8e3-4547-ae9c-f859d9b10882",
   "metadata": {},
   "outputs": [],
   "source": [
    "# CARDS and CARDSCOUNT should exclude dealerCard1 and \n",
    "# playerHistory. DealerCard2 is random to player.\n",
    "\n",
    "def oneNodeStand(n, dealerCard1, playerHistory, cards, cardsCount):   \n",
    "    probOfWinIfStand = 0\n",
    "    \n",
    "    \n",
    "    playerSum = valueSum(playerHistory, 0)\n",
    "    \n",
    "    if playerSum > 21:\n",
    "        return 0\n",
    "\n",
    "    dealerBurstProb = 0\n",
    "\n",
    "    numOfPlayerWin = 0\n",
    "    \n",
    "    for i in tqdm(range(0, n)):\n",
    "        cards1 = copy.deepcopy(cards)\n",
    "        cardsCount1 = copy.deepcopy(cardsCount)\n",
    "    \n",
    "        dealerHistory = [dealerCard1]\n",
    "        \n",
    "        value = randomValue(cards1)\n",
    "        hit(value, cards1, cardsCount1)\n",
    "        dealerHistory.append(value)\n",
    "        \n",
    "        dealerSum = valueSum(dealerHistory, 1)\n",
    "        \n",
    "        while dealerSum < 17:\n",
    "            value = randomValue(cards1)\n",
    "            hit(value, cards1, cardsCount1)\n",
    "            dealerHistory.append(value)\n",
    "            dealerSum = valueSum(dealerHistory, 1)\n",
    "        #print(dealerHistory)\n",
    "        if dealerSum > 21:\n",
    "            numOfPlayerWin += 1\n",
    "        elif playerSum > dealerSum:\n",
    "            numOfPlayerWin += 1\n",
    "            \n",
    "    probOfWinIfStand = numOfPlayerWin / n\n",
    "\n",
    "    return probOfWinIfStand"
   ]
  },
  {
   "cell_type": "code",
   "execution_count": 47,
   "id": "54de8314-16b9-4f06-a088-1874aab6cbfe",
   "metadata": {},
   "outputs": [
    {
     "name": "stderr",
     "output_type": "stream",
     "text": [
      "100%|██████████| 1000000/1000000 [00:59<00:00, 16799.67it/s]"
     ]
    },
    {
     "name": "stdout",
     "output_type": "stream",
     "text": [
      "0.117258\n"
     ]
    },
    {
     "name": "stderr",
     "output_type": "stream",
     "text": [
      "\n"
     ]
    }
   ],
   "source": [
    "n = 1000000\n",
    "dealerCard1 = 1\n",
    "playerHistory = [5, 9]\n",
    "cards = [1] * 52\n",
    "cardsCount = [4] * 13\n",
    "\n",
    "hit(dealerCard1, cards, cardsCount)\n",
    "for i in range(0, len(playerHistory)):\n",
    "        hit(playerHistory[i], cards, cardsCount)\n",
    "\n",
    "probOfWinIfStand = oneNodeStand(n, dealerCard1, playerHistory, cards, cardsCount)\n",
    "print(probOfWinIfStand)"
   ]
  },
  {
   "cell_type": "code",
   "execution_count": 50,
   "id": "96af9498-55fc-457a-b766-1de206e3d131",
   "metadata": {},
   "outputs": [],
   "source": [
    "# The player will hit if the probability of winning\n",
    "# if hitting only one card is greater than the \n",
    "# probability of winning if she stands.\n",
    "\n",
    "def hitAndStandStrategy(n, dealerCard1, playerHistory, cards, cardsCount):\n",
    "    \n",
    "    winProbStand = oneNodeStand(n, dealerCard1, playerHistory, cards, cardsCount)\n",
    "       \n",
    "    winProbHit = 0\n",
    "    \n",
    "\n",
    "    for j in range(1, 14):\n",
    "        \n",
    "        cards1 = copy.deepcopy(cards)\n",
    "        cardsCount1 = copy.deepcopy(cardsCount)\n",
    "        \n",
    "        hitResult = hit(j, cards1, cardsCount1)\n",
    "        if hitResult == None:\n",
    "            hitProb = 0\n",
    "            continue\n",
    "        hitProb = hitResult[0]\n",
    "\n",
    "        playerHistory.append(j)\n",
    "        playerSum = valueSum(playerHistory, 0)\n",
    "        if isinstance(playerSum, int) == False:\n",
    "            # Treat Ace as 11 because it increases the winning probability\n",
    "            # when player does not burst.\n",
    "            playerSum = playerSum[1]\n",
    "\n",
    "        if playerSum > 21:\n",
    "            playerHistory.pop()\n",
    "            continue\n",
    "        else:\n",
    "            winProbHit += hitProb * oneNodeStand(n, dealerCard1, playerHistory, \n",
    "                                                 cards1, cardsCount1)\n",
    "        playerHistory.pop()\n",
    "    if winProbHit > winProbStand:\n",
    "        strategy = 1\n",
    "    else:\n",
    "        strategy = 0\n",
    "    \n",
    "    return strategy, winProbHit, winProbStand\n",
    "    "
   ]
  },
  {
   "cell_type": "code",
   "execution_count": 46,
   "id": "9ad1c9a0-e2ec-4479-ab63-d7fc9b2035e1",
   "metadata": {},
   "outputs": [
    {
     "name": "stderr",
     "output_type": "stream",
     "text": [
      "100%|██████████| 100000/100000 [00:05<00:00, 16825.14it/s]\n",
      "100%|██████████| 100000/100000 [00:05<00:00, 17118.47it/s]\n",
      "100%|██████████| 100000/100000 [00:05<00:00, 16969.39it/s]\n",
      "100%|██████████| 100000/100000 [00:05<00:00, 16946.31it/s]\n",
      "100%|██████████| 100000/100000 [00:05<00:00, 16895.07it/s]\n",
      "100%|██████████| 100000/100000 [00:05<00:00, 16819.72it/s]\n",
      "100%|██████████| 100000/100000 [00:05<00:00, 16755.80it/s]\n",
      "100%|██████████| 100000/100000 [00:05<00:00, 16833.05it/s]"
     ]
    },
    {
     "name": "stdout",
     "output_type": "stream",
     "text": [
      "(0.16070142857142855, 0.1169)\n"
     ]
    },
    {
     "name": "stderr",
     "output_type": "stream",
     "text": [
      "\n"
     ]
    }
   ],
   "source": [
    "n = 1000\n",
    "dealerCard1 = 1\n",
    "dealerHistory = [dealerCard1]\n",
    "\n",
    "playerHistory = [5, 9]\n",
    "\n",
    "cards = [1] * 52\n",
    "cardsCount = [4] * 13\n",
    "\n",
    "hit(dealerCard1, cards, cardsCount)\n",
    "for i in range(0, len(playerHistory)):\n",
    "    hit(playerHistory[i], cards, cardsCount)\n",
    "\n",
    "hitAndStandStrategyResult = hitAndStandStrategy(n, dealerCard1, playerHistory, cards, cardsCount)\n",
    "print(hitAndStandPolicyResult)"
   ]
  },
  {
   "cell_type": "code",
   "execution_count": 67,
   "id": "ce460ebd-bd52-4046-b70a-dea1f3f6560b",
   "metadata": {},
   "outputs": [],
   "source": [
    "def hitAndStandPolicy(n, dealerCard1, playerCard1, playerCard2):\n",
    "    \n",
    "    cards = [1] * 52\n",
    "    cardsCount = [4] * 13\n",
    "    \n",
    "    playerHistory = [playerCard1, playerCard2]\n",
    "    dealerHistory = [dealerCard1]\n",
    "    \n",
    "    for i in range(0, len(playerHistory)):\n",
    "        hit(playerHistory[i], cards, cardsCount)\n",
    "    for i in range(0, len(dealerHistory)):\n",
    "        hitResult = hit(dealerHistory[i], cards, cardsCount)\n",
    "    \n",
    "    \n",
    "    \n",
    "    numOfWin = 0\n",
    "    cards1 = copy.deepcopy(cards)\n",
    "    cardsCount1 = copy.deepcopy(cardsCount)\n",
    "    strategy = hitAndStandStrategy(n, dealerCard1, playerHistory, \n",
    "                                   cards1, cardsCount1)[0]\n",
    "    for x in tqdm(range(0, n)):\n",
    "        cards = [1] * 52\n",
    "        cardsCount = [4] * 13\n",
    "\n",
    "        playerHistory = [playerCard1, playerCard2]\n",
    "        dealerHistory = [dealerCard1]\n",
    "\n",
    "        for i in range(0, len(playerHistory)):\n",
    "            hit(playerHistory[i], cards, cardsCount)\n",
    "        for i in range(0, len(dealerHistory)):\n",
    "            hitResult = hit(dealerHistory[i], cards, cardsCount)\n",
    "    \n",
    "        \n",
    "        while strategy == 1:\n",
    "            value = randomValue(cards)\n",
    "            hit(value, cards, cardsCount)\n",
    "            playerHistory.append(value)\n",
    "            playerSum = valueSum(playerHistory, 0)\n",
    "\n",
    "            if isinstance(playerSum, int) == True and playerSum > 21:\n",
    "                break\n",
    "\n",
    "            cards1 = copy.deepcopy(cards)\n",
    "            cardsCount1 = copy.deepcopy(cardsCount)\n",
    "            strategy = hitAndStandStrategy(n, dealerCard1, playerHistory, \n",
    "                                         cards1, cardsCount1)[0]\n",
    "        \n",
    "        \n",
    "        playerSum = valueSum(playerHistory, 0)\n",
    "\n",
    "        if isinstance(playerSum, int) == True and playerSum > 21:\n",
    "            continue\n",
    "        else:\n",
    "            dealerHistory = [dealerCard1]\n",
    "            dealerSum = valueSum(dealerHistory, 1)\n",
    "            \n",
    "            while dealerSum < 17:\n",
    "                value = randomValue(cards) \n",
    "                hit(value, cards, cardsCount)\n",
    "                dealerHistory.append(value)\n",
    "                dealerSum = valueSum(dealerHistory, 1)\n",
    "            \n",
    "            if dealerSum > 21:\n",
    "                numOfWin += 1\n",
    "            elif playerSum > dealerSum:\n",
    "                numOfWin += 1\n",
    "    return numOfWin / n"
   ]
  },
  {
   "cell_type": "code",
   "execution_count": 69,
   "id": "8fd55f6d-94c5-4d02-bdab-b1c19c3557b1",
   "metadata": {},
   "outputs": [
    {
     "name": "stderr",
     "output_type": "stream",
     "text": [
      "100%|██████████| 1000/1000 [00:00<00:00, 12968.00it/s]\n",
      "100%|██████████| 1000/1000 [00:00<00:00, 16018.15it/s]\n",
      "100%|██████████| 1000/1000 [00:00<00:00, 16855.43it/s]\n",
      "100%|██████████| 1000/1000 [00:00<00:00, 16461.94it/s]\n",
      "100%|██████████| 1000/1000 [00:00<00:00, 16471.96it/s]\n",
      "100%|██████████| 1000/1000 [00:00<00:00, 16529.15it/s]\n",
      "100%|██████████| 1000/1000 [00:00<00:00, 16075.86it/s]\n",
      "100%|██████████| 1000/1000 [00:00<00:00, 16139.45it/s]\n",
      "  0%|          | 0/1000 [00:00<?, ?it/s]\n",
      "100%|██████████| 1000/1000 [00:00<00:00, 16664.96it/s]\n",
      "\n",
      "100%|██████████| 1000/1000 [00:00<00:00, 16813.26it/s]\n",
      "100%|██████████| 1000/1000 [00:00<00:00, 5207.98it/s]"
     ]
    },
    {
     "name": "stdout",
     "output_type": "stream",
     "text": [
      "0.114\n"
     ]
    },
    {
     "name": "stderr",
     "output_type": "stream",
     "text": [
      "\n"
     ]
    }
   ],
   "source": [
    "n = 1000\n",
    "dealerCard1 = 1\n",
    "playerCard1 = 5\n",
    "playerCard2 = 9\n",
    "print(hitAndStandPolicy(n, dealerCard1, playerCard1, playerCard2))"
   ]
  },
  {
   "cell_type": "code",
   "execution_count": null,
   "id": "8feaab2c-6797-4cf6-b25e-211b269fee8e",
   "metadata": {},
   "outputs": [],
   "source": []
  }
 ],
 "metadata": {
  "kernelspec": {
   "display_name": "Python 3 (ipykernel)",
   "language": "python",
   "name": "python3"
  },
  "language_info": {
   "codemirror_mode": {
    "name": "ipython",
    "version": 3
   },
   "file_extension": ".py",
   "mimetype": "text/x-python",
   "name": "python",
   "nbconvert_exporter": "python",
   "pygments_lexer": "ipython3",
   "version": "3.9.7"
  }
 },
 "nbformat": 4,
 "nbformat_minor": 5
}
